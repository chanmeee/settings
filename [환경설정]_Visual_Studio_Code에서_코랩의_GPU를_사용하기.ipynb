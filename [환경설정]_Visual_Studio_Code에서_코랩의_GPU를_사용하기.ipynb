{
  "nbformat": 4,
  "nbformat_minor": 0,
  "metadata": {
    "colab": {
      "name": "[환경설정] Visual Studio Code에서 코랩의 GPU를 사용하기.ipynb",
      "provenance": [],
      "collapsed_sections": [],
      "machine_shape": "hm",
      "mount_file_id": "1qx11UpVp8vuU1JpvEwpd6jcg6cEvhf-v",
      "authorship_tag": "ABX9TyPuS2vA91BoFZdmWLY2tWPV",
      "include_colab_link": true
    },
    "kernelspec": {
      "name": "python3",
      "display_name": "Python 3"
    },
    "language_info": {
      "name": "python"
    },
    "accelerator": "GPU"
  },
  "cells": [
    {
      "cell_type": "markdown",
      "metadata": {
        "id": "view-in-github",
        "colab_type": "text"
      },
      "source": [
        "<a href=\"https://colab.research.google.com/github/chanmeee/settings/blob/main/%5B%ED%99%98%EA%B2%BD%EC%84%A4%EC%A0%95%5D_Visual_Studio_Code%EC%97%90%EC%84%9C_%EC%BD%94%EB%9E%A9%EC%9D%98_GPU%EB%A5%BC_%EC%82%AC%EC%9A%A9%ED%95%98%EA%B8%B0.ipynb\" target=\"_parent\"><img src=\"https://colab.research.google.com/assets/colab-badge.svg\" alt=\"Open In Colab\"/></a>"
      ]
    },
    {
      "cell_type": "markdown",
      "source": [
        "# Visual Studio Code에서 코랩의 GPU를 사용하기\n",
        "참고: [Colab의 고성능 GPU를 로컬 PC에서 사용하는 방법!](https://youtu.be/oAKxxLy-G5g)"
      ],
      "metadata": {
        "id": "ReNUFCwQXkTG"
      }
    },
    {
      "cell_type": "markdown",
      "source": [
        "- NGROK_TOKEN: ngrok 사이트(https://dashboard.ngrok.com/get-started/setup)에 회원가입 후, [2. Connect your account]에 있는 authtok을 복사하여 붙여넣는다.\n",
        "- PASSWORD: 접속시 사용할 비밀번호"
      ],
      "metadata": {
        "id": "96AqluteY4rx"
      }
    },
    {
      "cell_type": "code",
      "execution_count": null,
      "metadata": {
        "id": "zeBzK1pFXi2t"
      },
      "outputs": [],
      "source": [
        "NGROK_TOKEN = '2536n3MR7umf5W8fhXLJHrzMsrW_4CCZMGjUKGAgH1xHU2fB2'\n",
        "PASSWORD = '170207'"
      ]
    },
    {
      "cell_type": "markdown",
      "source": [
        "### 1. GPU 확인\n",
        "- 반드시 메뉴바 - [런타임] - [런타임 유형 변경]에서 [하드웨어 가속기]를 `GPU`로 설정해준다."
      ],
      "metadata": {
        "id": "CyCNp8R8YD2l"
      }
    },
    {
      "cell_type": "code",
      "source": [
        "!nvidia-smi"
      ],
      "metadata": {
        "colab": {
          "base_uri": "https://localhost:8080/"
        },
        "id": "HpAvZqcIYDVe",
        "outputId": "4646d967-325c-4a46-f1d1-085c0eb38dd6"
      },
      "execution_count": null,
      "outputs": [
        {
          "output_type": "stream",
          "name": "stdout",
          "text": [
            "Sun Feb 13 09:18:49 2022       \n",
            "+-----------------------------------------------------------------------------+\n",
            "| NVIDIA-SMI 460.32.03    Driver Version: 460.32.03    CUDA Version: 11.2     |\n",
            "|-------------------------------+----------------------+----------------------+\n",
            "| GPU  Name        Persistence-M| Bus-Id        Disp.A | Volatile Uncorr. ECC |\n",
            "| Fan  Temp  Perf  Pwr:Usage/Cap|         Memory-Usage | GPU-Util  Compute M. |\n",
            "|                               |                      |               MIG M. |\n",
            "|===============================+======================+======================|\n",
            "|   0  Tesla P100-PCIE...  Off  | 00000000:00:04.0 Off |                    0 |\n",
            "| N/A   42C    P0    28W / 250W |      0MiB / 16280MiB |      0%      Default |\n",
            "|                               |                      |                  N/A |\n",
            "+-------------------------------+----------------------+----------------------+\n",
            "                                                                               \n",
            "+-----------------------------------------------------------------------------+\n",
            "| Processes:                                                                  |\n",
            "|  GPU   GI   CI        PID   Type   Process name                  GPU Memory |\n",
            "|        ID   ID                                                   Usage      |\n",
            "|=============================================================================|\n",
            "|  No running processes found                                                 |\n",
            "+-----------------------------------------------------------------------------+\n"
          ]
        }
      ]
    },
    {
      "cell_type": "markdown",
      "source": [
        "### 2. (선택) Google Drive 마운트\n",
        "- 왼쪽 메뉴바에서 제일 아래쪽에 있는 [폴더 아이콘]을 선택 - 구글 드라이브 마운트"
      ],
      "metadata": {
        "id": "YYrUjvFGYUet"
      }
    },
    {
      "cell_type": "markdown",
      "source": [
        "### 3. Colab을 VS Code에 연결하기\n",
        "- (방법1) ColabCode 패키지 이용: 온라인 에디터, 온라인 환경에서 VS Code를 이용한다.\n",
        "- (방법2) Colab-SSH 이용: 로컬 에디터, 기존 컴퓨터에 깔아놓은 VS Code를 이용한다. 사용자 테마, 폰트 등을 설정해둔 상황이라면 이 방법을 이용하기"
      ],
      "metadata": {
        "id": "URzA83sAYqGO"
      }
    },
    {
      "cell_type": "markdown",
      "source": [
        "#### 3-1. ColabCode 패키지 이용"
      ],
      "metadata": {
        "id": "84yT4YX2dWwA"
      }
    },
    {
      "cell_type": "code",
      "source": [
        "!pip install -q colabcode"
      ],
      "metadata": {
        "id": "TpJXJMYCcqHF"
      },
      "execution_count": null,
      "outputs": []
    },
    {
      "cell_type": "code",
      "source": [
        "from colabcode import Colabcode\n",
        "\n",
        "Colabcode(port=10000, password=PASSWORD)  # port: 포트 번호 값은 자유롭게 설정"
      ],
      "metadata": {
        "id": "YnOuIGlzYHaa"
      },
      "execution_count": null,
      "outputs": []
    },
    {
      "cell_type": "markdown",
      "source": [
        ""
      ],
      "metadata": {
        "id": "Q9cpCVX8hSYG"
      }
    },
    {
      "cell_type": "markdown",
      "source": [
        "#### 3-2. Colab-SSH 이용"
      ],
      "metadata": {
        "id": "FvcepJo9dZH9"
      }
    },
    {
      "cell_type": "code",
      "source": [
        "!pip install -q colab-ssh"
      ],
      "metadata": {
        "id": "U1E5s1DTdZH9"
      },
      "execution_count": null,
      "outputs": []
    },
    {
      "cell_type": "code",
      "source": [
        "from colab_ssh import launch_ssh\n",
        "\n",
        "launch_ssh(NGROK_TOKEN, PASSWORD)"
      ],
      "metadata": {
        "colab": {
          "base_uri": "https://localhost:8080/"
        },
        "id": "BGdxAekidiod",
        "outputId": "4fea1ac3-a7ff-4fd5-ab89-82ca8c630932"
      },
      "execution_count": null,
      "outputs": [
        {
          "output_type": "stream",
          "name": "stdout",
          "text": [
            "Warning: Due to some issues with ngrok on Google Colab, reported in the issue https://github.com/WassimBenzarti/colab-ssh/issues/45, \n",
            "we highly recommend that update your code by following this documentation https://github.com/WassimBenzarti/colab-ssh#getting-started\n",
            "Successfully running 8.tcp.ngrok.io:17746\n",
            "[Optional] You can also connect with VSCode SSH Remote extension using this configuration:\n",
            "\n",
            "  Host google_colab_ssh\n",
            "    HostName 8.tcp.ngrok.io\n",
            "    User root\n",
            "    Port 17746\n",
            "    \n"
          ]
        }
      ]
    },
    {
      "cell_type": "markdown",
      "source": [
        "[이후 진행 단계]\n",
        "\n",
        "- VS Code를 열고 Extensions 메뉴를 클릭한 뒤, `remote-ssh`를 검색하여 확장기능을 설치한다.\n",
        "- [ctrl + shift + P]를 누른 뒤 `remote-ssh: Add New SSH Host..`를 클릭하고, 'ssh root@**HostName** -p **Port**`를 입력한다. **HostName**과 **Port**는 위의 코드 실행결과에서 나온 값을 입력하면 된다. \n",
        "  - 예를 들어, 나의 경우에는 `ssh root@8.tcp.ngrok.io -p 17746`을 입력하였다.\n",
        "- 우측 하단에 팝업창이 뜨면, 파란색 'Connect' 버튼을 클릭한다.\n",
        "- 새로운 팝업 창이 뜨면 입력창에 제일 처음에 지정한 PASSWORD를 입력한다.\n",
        "- [Open Folder]를 눌러 디렉토리 위치를 지정한다.\n",
        "  - 나는 그냥 `root`로 지정함\n",
        "- 다시 한번 PASSWORD를 입력한다.\n",
        "- 연결 끝! \n",
        "---\n",
        "\n",
        "- Colab 환경에 잘 접속되었는지 확인하는 방법: 메뉴바에서 [Terminal]-[New Terminal] 클릭 후, 하단 코드창에 `!nvidia-smi` 코드를 입력한다. 결과창에 `Tesla V100`이 뜬다면 잘 연결된 것이다. 만일 아무것도 뜨지 않는다면 잘못 연결된 것이다."
      ],
      "metadata": {
        "id": "CNLcYAC4eHXK"
      }
    },
    {
      "cell_type": "code",
      "source": [
        ""
      ],
      "metadata": {
        "id": "advxpfXvecCt"
      },
      "execution_count": null,
      "outputs": []
    }
  ]
}